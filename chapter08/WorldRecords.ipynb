{
 "cells": [
  {
   "cell_type": "code",
   "execution_count": 1,
   "metadata": {},
   "outputs": [
    {
     "name": "stdout",
     "output_type": "stream",
     "text": [
      "Collecting gazpacho\n",
      "  Downloading gazpacho-1.1.tar.gz (7.9 kB)\n",
      "  Installing build dependencies: started\n",
      "  Installing build dependencies: finished with status 'done'\n",
      "  Getting requirements to build wheel: started\n",
      "  Getting requirements to build wheel: finished with status 'done'\n",
      "  Preparing metadata (pyproject.toml): started\n",
      "  Preparing metadata (pyproject.toml): finished with status 'done'\n",
      "Building wheels for collected packages: gazpacho\n",
      "  Building wheel for gazpacho (pyproject.toml): started\n",
      "  Building wheel for gazpacho (pyproject.toml): finished with status 'done'\n",
      "  Created wheel for gazpacho: filename=gazpacho-1.1-py3-none-any.whl size=7485 sha256=b8b77e35d52fe56e5c4a6488dbf555d112292d00657910c59b5e73ac5c9e4541\n",
      "  Stored in directory: c:\\users\\loren\\appdata\\local\\pip\\cache\\wheels\\2b\\49\\33\\b889bdad7e58b8a514eb3a47869eadb9ef67bd59a534b5e24d\n",
      "Successfully built gazpacho\n",
      "Installing collected packages: gazpacho\n",
      "Successfully installed gazpacho-1.1\n",
      "Note: you may need to restart the kernel to use updated packages.\n"
     ]
    },
    {
     "name": "stderr",
     "output_type": "stream",
     "text": [
      "\n",
      "[notice] A new release of pip is available: 23.2.1 -> 23.3.2\n",
      "[notice] To update, run: python.exe -m pip install --upgrade pip\n"
     ]
    }
   ],
   "source": [
    "%pip install gazpacho --upgrade"
   ]
  },
  {
   "cell_type": "code",
   "execution_count": 2,
   "metadata": {},
   "outputs": [],
   "source": [
    "import gazpacho\n",
    "URL = \"https://en.wikipedia.org/wiki/List_of_world_records_in_swimming\"\n",
    "\n",
    "html = gazpacho.get(URL)"
   ]
  },
  {
   "cell_type": "code",
   "execution_count": 3,
   "metadata": {},
   "outputs": [
    {
     "data": {
      "text/plain": [
       "553228"
      ]
     },
     "execution_count": 3,
     "metadata": {},
     "output_type": "execute_result"
    }
   ],
   "source": [
    "len(html)"
   ]
  },
  {
   "cell_type": "code",
   "execution_count": 4,
   "metadata": {},
   "outputs": [
    {
     "name": "stdout",
     "output_type": "stream",
     "text": [
      "<!DOCTYPE html>\n",
      "<html class=\"client-nojs vector-feature-language-in-header-enabled vector-feature-language-in-main-page-header-disabled vector-feature-sticky-header-disabled vector-feature-page-tools-pinned-disabled vector-feature-toc-pinned-clientpref-1 vector-feature-main-menu-pinned-disabled vector-feature-limited-width-clientpref-1 vector-feature-limited-width-content-enabled vector-feature-zebra-design-enabled vector-feature-custom-font-size-clientpref-0 vector-feature-client-preferences-di\n"
     ]
    }
   ],
   "source": [
    "sliced = html[:500]\n",
    "print(sliced)"
   ]
  },
  {
   "cell_type": "code",
   "execution_count": 6,
   "metadata": {},
   "outputs": [
    {
     "data": {
      "text/plain": [
       "'<table class=\"wikitable sortable\" style=\"font-size: 95%;\">\\n<caption>\\n</caption>\\n<tbody><tr>\\n<th>Event\\n</th>\\n<th style=\"width:4em\" class=\"unsortable\">Time\\n</th>\\n<th class=\"unsortable\">\\n</th>\\n<th>Name</th>\\n<th>Nationality</th>\\n<th>Date</th>\\n<th>Meet</th>\\n<th>Location\\n</th>\\n<th style=\"width:2em\" class=\"unsortable\">Ref\\n</th></tr>\\n\\n<tr>\\n<td><span data-sort-value=\"01 &#160;!\"> <a href=\"/wiki/World_record_progression_50_metres_freestyle\" title=\"World record progression 50 metres freestyle\">50m freestyl'"
      ]
     },
     "execution_count": 6,
     "metadata": {},
     "output_type": "execute_result"
    }
   ],
   "source": [
    "from_where = html.find(\"<table\")\n",
    "html[from_where:from_where+500]"
   ]
  },
  {
   "cell_type": "code",
   "execution_count": 8,
   "metadata": {},
   "outputs": [
    {
     "data": {
      "text/plain": [
       "gazpacho.soup.Soup"
      ]
     },
     "execution_count": 8,
     "metadata": {},
     "output_type": "execute_result"
    }
   ],
   "source": [
    "soup = gazpacho.Soup(html)\n",
    "type(soup)"
   ]
  },
  {
   "cell_type": "code",
   "execution_count": 11,
   "metadata": {},
   "outputs": [
    {
     "data": {
      "text/plain": [
       "<tr>\n",
       "  <th>Event\n",
       "</th>\n",
       "  <th style=\"width:4em\" class=\"unsortable\">Time\n",
       "</th>\n",
       "  <th class=\"unsortable\">\n",
       "</th>\n",
       "  <th>Name</th>\n",
       "  <th>Nationality</th>\n",
       "  <th>Date</th>\n",
       "  <th>Meet</th>\n",
       "  <th>Location\n",
       "</th>\n",
       "  <th style=\"width:2em\" class=\"unsortable\">Ref\n",
       "</th>\n",
       "</tr>"
      ]
     },
     "execution_count": 11,
     "metadata": {},
     "output_type": "execute_result"
    }
   ],
   "source": [
    "tables = soup.find(\"table\")\n",
    "rows = tables[0].find(\"tr\", mode=\"all\")\n",
    "rows[0]"
   ]
  },
  {
   "cell_type": "code",
   "execution_count": 14,
   "metadata": {},
   "outputs": [
    {
     "data": {
      "text/plain": [
       "<tr>\n",
       "<td><span data-sort-value=\"02  !\"> <a href=\"/wiki/World_record_progression_100_metres_freestyle\" title=\"World record progression 100 metres freestyle\">100m freestyle</a> </span>\n",
       "</td>\n",
       "<td style=\"text-align:right; padding-left:0.5em; padding-right:0.5em;\">46.86\n",
       "</td>\n",
       "<td style=\"font-size:smaller\"></td>\n",
       "<td><span class=\"nowrap\"><span data-sort-value=\"Popovici, David\"><span class=\"vcard\"><span class=\"fn\"><a href=\"/wiki/David_Popovici\" title=\"David Popovici\">David Popovici</a></span></span></span></span>\n",
       "</td>\n",
       "<td><span class=\"flagicon\"><span class=\"mw-image-border\" typeof=\"mw:File\"><span><img alt=\"\" src=\"//upload.wikimedia.org/wikipedia/commons/thumb/7/73/Flag_of_Romania.svg/23px-Flag_of_Romania.svg.png\" decoding=\"async\" width=\"23\" height=\"15\" class=\"mw-file-element\" srcset=\"//upload.wikimedia.org/wikipedia/commons/thumb/7/73/Flag_of_Romania.svg/35px-Flag_of_Romania.svg.png 1.5x, //upload.wikimedia.org/wikipedia/commons/thumb/7/73/Flag_of_Romania.svg/45px-Flag_of_Romania.svg.png 2x\" data-file-width=\"600\" data-file-height=\"400\"></span></span> </span>Romania\n",
       "</td>\n",
       "<td style=\"text-align:center\">13 August 2022</td>\n",
       "<td><a href=\"/wiki/Swimming_at_the_2022_European_Aquatics_Championships_%E2%80%93_Men%27s_100_metre_freestyle\" title=\"Swimming at the 2022 European Aquatics Championships – Men's 100 metre freestyle\">European Championships</a>\n",
       "</td>\n",
       "<td><span data-sort-value=\"Italy, Rome !\">  <a href=\"/wiki/Rome\" title=\"Rome\">Rome</a>, Italy</span>\n",
       "</td>\n",
       "<td style=\"text-align:center\"><sup id=\"cite_ref-13\" class=\"reference\"><a href=\"#cite_note-13\">[13]</a></sup><sup id=\"cite_ref-14\" class=\"reference\"><a href=\"#cite_note-14\">[14]</a></sup>\n",
       "</td></tr>"
      ]
     },
     "execution_count": 14,
     "metadata": {},
     "output_type": "execute_result"
    }
   ],
   "source": [
    "tables = soup.find(\"table\")\n",
    "rows = tables[0].find(\"tr\", mode=\"all\")\n",
    "rows[2]"
   ]
  },
  {
   "cell_type": "code",
   "execution_count": 13,
   "metadata": {},
   "outputs": [
    {
     "name": "stdout",
     "output_type": "stream",
     "text": [
      "0 -> 21 rows\n",
      "1 -> 1 rows\n",
      "2 -> 21 rows\n",
      "3 -> 3 rows\n",
      "4 -> 27 rows\n",
      "5 -> 26 rows\n",
      "6 -> 3 rows\n",
      "7 -> 26 rows\n",
      "8 -> 1 rows\n",
      "9 -> 7 rows\n",
      "10 -> 5 rows\n",
      "11 -> 8 rows\n"
     ]
    }
   ],
   "source": [
    "for n, table in enumerate(tables):\n",
    "    rows = table.find(\"tr\", mode=\"all\")\n",
    "    print(f\"{n} -> {len(rows)} rows\")"
   ]
  }
 ],
 "metadata": {
  "kernelspec": {
   "display_name": "Python 3",
   "language": "python",
   "name": "python3"
  },
  "language_info": {
   "codemirror_mode": {
    "name": "ipython",
    "version": 3
   },
   "file_extension": ".py",
   "mimetype": "text/x-python",
   "name": "python",
   "nbconvert_exporter": "python",
   "pygments_lexer": "ipython3",
   "version": "3.12.0"
  }
 },
 "nbformat": 4,
 "nbformat_minor": 2
}
