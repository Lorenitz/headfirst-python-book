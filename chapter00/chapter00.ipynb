{
 "cells": [
  {
   "cell_type": "code",
   "execution_count": 2,
   "metadata": {},
   "outputs": [],
   "source": [
    "import random \n",
    "\n",
    "suits = [\"Clubs\", \"Spades\", \"Hearts\", \"Diamonds\"]\n",
    "numbered = [2,3,4,5,6,7,8,9,10]\n",
    "faces = [\"Jack\", \"Queen\", \"King\", \"Ace\"]"
   ]
  },
  {
   "cell_type": "code",
   "execution_count": 3,
   "metadata": {},
   "outputs": [
    {
     "data": {
      "text/plain": [
       "['Clubs', 'Spades', 'Hearts', 'Diamonds']"
      ]
     },
     "execution_count": 3,
     "metadata": {},
     "output_type": "execute_result"
    }
   ],
   "source": [
    "suits"
   ]
  },
  {
   "cell_type": "code",
   "execution_count": 5,
   "metadata": {},
   "outputs": [],
   "source": [
    "def draw():\n",
    "    the_suit = random.choice(suits)\n",
    "    the_card = random.choice(faces + numbered)\n",
    "    return the_card, \"of\", the_suit"
   ]
  },
  {
   "cell_type": "code",
   "execution_count": 20,
   "metadata": {},
   "outputs": [
    {
     "name": "stdout",
     "output_type": "stream",
     "text": [
      "['Jack', 'Queen', 'King', 'Ace', 2, 3, 4, 5, 6, 7, 8, 9, 10]\n"
     ]
    }
   ],
   "source": [
    "print(faces + numbered)"
   ]
  },
  {
   "cell_type": "code",
   "execution_count": 6,
   "metadata": {},
   "outputs": [
    {
     "name": "stdout",
     "output_type": "stream",
     "text": [
      "(4, 'of', 'Diamonds')\n"
     ]
    }
   ],
   "source": [
    "print(draw())"
   ]
  },
  {
   "cell_type": "code",
   "execution_count": 7,
   "metadata": {},
   "outputs": [
    {
     "name": "stdout",
     "output_type": "stream",
     "text": [
      "('Queen', 'of', 'Diamonds')\n"
     ]
    }
   ],
   "source": [
    "print(draw())"
   ]
  },
  {
   "cell_type": "code",
   "execution_count": 8,
   "metadata": {},
   "outputs": [
    {
     "name": "stdout",
     "output_type": "stream",
     "text": [
      "('Queen', 'of', 'Clubs')\n"
     ]
    }
   ],
   "source": [
    "print(draw())"
   ]
  },
  {
   "cell_type": "code",
   "execution_count": 9,
   "metadata": {},
   "outputs": [
    {
     "name": "stdout",
     "output_type": "stream",
     "text": [
      "(5, 'of', 'Hearts')\n",
      "('Queen', 'of', 'Spades')\n",
      "(7, 'of', 'Hearts')\n",
      "(10, 'of', 'Hearts')\n",
      "('Ace', 'of', 'Clubs')\n"
     ]
    }
   ],
   "source": [
    "for _ in range(5):\n",
    "    print(draw())"
   ]
  },
  {
   "cell_type": "code",
   "execution_count": 10,
   "metadata": {},
   "outputs": [],
   "source": [
    "deck = set()"
   ]
  },
  {
   "cell_type": "code",
   "execution_count": 11,
   "metadata": {},
   "outputs": [
    {
     "data": {
      "text/plain": [
       "set"
      ]
     },
     "execution_count": 11,
     "metadata": {},
     "output_type": "execute_result"
    }
   ],
   "source": [
    "type(deck)"
   ]
  },
  {
   "cell_type": "code",
   "execution_count": 12,
   "metadata": {},
   "outputs": [
    {
     "data": {
      "text/plain": [
       "0"
      ]
     },
     "execution_count": 12,
     "metadata": {},
     "output_type": "execute_result"
    }
   ],
   "source": [
    "len(deck)"
   ]
  },
  {
   "cell_type": "code",
   "execution_count": 13,
   "metadata": {},
   "outputs": [
    {
     "name": "stdout",
     "output_type": "stream",
     "text": [
      "['__and__', '__class__', '__contains__', '__delattr__', '__dir__', '__doc__', '__eq__', '__format__', '__ge__', '__getattribute__', '__gt__', '__hash__', '__iand__', '__init__', '__init_subclass__', '__ior__', '__isub__', '__iter__', '__ixor__', '__le__', '__len__', '__lt__', '__ne__', '__new__', '__or__', '__rand__', '__reduce__', '__reduce_ex__', '__repr__', '__ror__', '__rsub__', '__rxor__', '__setattr__', '__sizeof__', '__str__', '__sub__', '__subclasshook__', '__xor__', 'add', 'clear', 'copy', 'difference', 'difference_update', 'discard', 'intersection', 'intersection_update', 'isdisjoint', 'issubset', 'issuperset', 'pop', 'remove', 'symmetric_difference', 'symmetric_difference_update', 'union', 'update']\n"
     ]
    }
   ],
   "source": [
    "print(dir(deck))"
   ]
  },
  {
   "cell_type": "code",
   "execution_count": 14,
   "metadata": {},
   "outputs": [
    {
     "name": "stdout",
     "output_type": "stream",
     "text": [
      "Help on built-in function add:\n",
      "\n",
      "add(...) method of builtins.set instance\n",
      "    Add an element to a set.\n",
      "    \n",
      "    This has no effect if the element is already present.\n",
      "\n"
     ]
    }
   ],
   "source": [
    "help(deck.add)"
   ]
  },
  {
   "cell_type": "code",
   "execution_count": 16,
   "metadata": {},
   "outputs": [],
   "source": [
    "for suit in suits:\n",
    "    for card in faces + numbered:\n",
    "        deck.add((card, \"of\", suit))"
   ]
  },
  {
   "cell_type": "code",
   "execution_count": 17,
   "metadata": {},
   "outputs": [
    {
     "data": {
      "text/plain": [
       "52"
      ]
     },
     "execution_count": 17,
     "metadata": {},
     "output_type": "execute_result"
    }
   ],
   "source": [
    "len(deck)"
   ]
  },
  {
   "cell_type": "code",
   "execution_count": 18,
   "metadata": {},
   "outputs": [
    {
     "name": "stdout",
     "output_type": "stream",
     "text": [
      "{(4, 'of', 'Hearts'), (5, 'of', 'Diamonds'), ('Queen', 'of', 'Hearts'), (5, 'of', 'Hearts'), ('Queen', 'of', 'Spades'), ('King', 'of', 'Hearts'), (7, 'of', 'Hearts'), (10, 'of', 'Clubs'), ('Jack', 'of', 'Hearts'), (3, 'of', 'Diamonds'), (6, 'of', 'Diamonds'), (2, 'of', 'Clubs'), (3, 'of', 'Hearts'), (6, 'of', 'Hearts'), ('Ace', 'of', 'Diamonds'), (10, 'of', 'Diamonds'), ('Ace', 'of', 'Hearts'), (3, 'of', 'Spades'), (6, 'of', 'Spades'), (8, 'of', 'Clubs'), ('Ace', 'of', 'Spades'), (10, 'of', 'Spades'), ('Queen', 'of', 'Diamonds'), (2, 'of', 'Spades'), (4, 'of', 'Clubs'), ('Queen', 'of', 'Clubs'), (9, 'of', 'Diamonds'), (5, 'of', 'Clubs'), (9, 'of', 'Hearts'), (8, 'of', 'Spades'), ('King', 'of', 'Clubs'), (7, 'of', 'Clubs'), (9, 'of', 'Spades'), (4, 'of', 'Diamonds'), ('Jack', 'of', 'Clubs'), ('King', 'of', 'Diamonds'), (4, 'of', 'Spades'), (10, 'of', 'Hearts'), (7, 'of', 'Diamonds'), (6, 'of', 'Clubs'), (3, 'of', 'Clubs'), (5, 'of', 'Spades'), (2, 'of', 'Diamonds'), ('Ace', 'of', 'Clubs'), ('King', 'of', 'Spades'), (2, 'of', 'Hearts'), (7, 'of', 'Spades'), ('Jack', 'of', 'Diamonds'), (8, 'of', 'Diamonds'), ('Jack', 'of', 'Spades'), (8, 'of', 'Hearts'), (9, 'of', 'Clubs')}\n"
     ]
    }
   ],
   "source": [
    "print(deck)"
   ]
  },
  {
   "cell_type": "code",
   "execution_count": 22,
   "metadata": {},
   "outputs": [
    {
     "name": "stdout",
     "output_type": "stream",
     "text": [
      "(3, 'of', 'Diamonds')\n"
     ]
    }
   ],
   "source": [
    "card = random.choice(list(deck)) #random only works with list types\n",
    "print(card)"
   ]
  },
  {
   "cell_type": "code",
   "execution_count": 23,
   "metadata": {},
   "outputs": [
    {
     "data": {
      "text/plain": [
       "51"
      ]
     },
     "execution_count": 23,
     "metadata": {},
     "output_type": "execute_result"
    }
   ],
   "source": [
    "deck.remove(card)\n",
    "len(deck)"
   ]
  },
  {
   "cell_type": "code",
   "execution_count": 24,
   "metadata": {},
   "outputs": [],
   "source": [
    "def draw():\n",
    "    card = random.choice(list(deck)) # randomly select a card\n",
    "    deck.remove(card) # Remove the drawn card from the deck\n",
    "    return card # Return the selected card to the calling code"
   ]
  },
  {
   "cell_type": "code",
   "execution_count": null,
   "metadata": {},
   "outputs": [],
   "source": []
  }
 ],
 "metadata": {
  "kernelspec": {
   "display_name": "Python 3",
   "language": "python",
   "name": "python3"
  },
  "language_info": {
   "codemirror_mode": {
    "name": "ipython",
    "version": 3
   },
   "file_extension": ".py",
   "mimetype": "text/x-python",
   "name": "python",
   "nbconvert_exporter": "python",
   "pygments_lexer": "ipython3",
   "version": "3.8.5"
  }
 },
 "nbformat": 4,
 "nbformat_minor": 2
}
