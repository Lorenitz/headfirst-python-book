{
 "cells": [
  {
   "cell_type": "code",
   "execution_count": 2,
   "metadata": {},
   "outputs": [],
   "source": [
    "import swimclub\n",
    "import hfpy_utils\n",
    "\n",
    "fn = \"Darius-13-100m-Fly.txt\"\n",
    "\n",
    "\n",
    "*_, times, average, converts = swimclub.read_swim_data(fn)\n",
    "from_max = max(converts)\n",
    "svgs = \"\"\n",
    "\n",
    "\n",
    "html = f\"\"\" <! DOCTYPE html>\n",
    "<html>\n",
    "    <head>\n",
    "        <title>{title}</title>\n",
    "    </head>\n",
    "    <body>\n",
    "        <h3>{title}</h3>\n",
    "\"\"\"\n",
    "\n",
    "for n, t in enumerate(times):\n",
    "    bar_width = hfpy_utils.convert2range(converts[n], 0, from_max, 0, 400)\n",
    "    \n",
    "    svgs = svgs + f\"\"\"\n",
    "                        <svg height=\"30\" width=\"400\">\n",
    "                            <rect height=\"30\" width=\"{bar_width}\" style=\"fill:rgb(0,0,2555);\" />\n",
    "                        </svg>{t}<br />\n",
    "                \"\"\"            "
   ]
  },
  {
   "cell_type": "code",
   "execution_count": 3,
   "metadata": {},
   "outputs": [
    {
     "name": "stdout",
     "output_type": "stream",
     "text": [
      "\n",
      "                        <svg height=\"30\" width=\"400\">\n",
      "                            <rect height=\"30\" width=\"386.76\" style=\"fill:rgb(0,0,2555);\" />\n",
      "                        </svg>1:27.95<br />\n",
      "                \n",
      "                        <svg height=\"30\" width=\"400\">\n",
      "                            <rect height=\"30\" width=\"356.51\" style=\"fill:rgb(0,0,2555);\" />\n",
      "                        </svg>1:21.07<br />\n",
      "                \n",
      "                        <svg height=\"30\" width=\"400\">\n",
      "                            <rect height=\"30\" width=\"400.0\" style=\"fill:rgb(0,0,2555);\" />\n",
      "                        </svg>1:30.96<br />\n",
      "                \n",
      "                        <svg height=\"30\" width=\"400\">\n",
      "                            <rect height=\"30\" width=\"365.96\" style=\"fill:rgb(0,0,2555);\" />\n",
      "                        </svg>1:23.22<br />\n",
      "                \n",
      "                        <svg height=\"30\" width=\"400\">\n",
      "                            <rect height=\"30\" width=\"386.76\" style=\"fill:rgb(0,0,2555);\" />\n",
      "                        </svg>1:27.95<br />\n",
      "                \n",
      "                        <svg height=\"30\" width=\"400\">\n",
      "                            <rect height=\"30\" width=\"388.3\" style=\"fill:rgb(0,0,2555);\" />\n",
      "                        </svg>1:28.30<br />\n",
      "                \n"
     ]
    }
   ],
   "source": [
    "print(svgs)\n",
    "\n",
    "footer = f\"\"\"\n",
    "        <p>Average time: {average}</p>\n",
    "    </body>\n",
    "</html>\n",
    "\"\"\"\n",
    "\n",
    "page = html + svgs + footer    "
   ]
  }
 ],
 "metadata": {
  "kernelspec": {
   "display_name": "Python 3",
   "language": "python",
   "name": "python3"
  },
  "language_info": {
   "codemirror_mode": {
    "name": "ipython",
    "version": 3
   },
   "file_extension": ".py",
   "mimetype": "text/x-python",
   "name": "python",
   "nbconvert_exporter": "python",
   "pygments_lexer": "ipython3",
   "version": "3.12.0"
  }
 },
 "nbformat": 4,
 "nbformat_minor": 2
}
