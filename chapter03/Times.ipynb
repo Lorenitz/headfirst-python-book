{
 "cells": [
  {
   "cell_type": "code",
   "execution_count": 1,
   "metadata": {},
   "outputs": [
    {
     "name": "stdout",
     "output_type": "stream",
     "text": [
      "1:26.58\n"
     ]
    }
   ],
   "source": [
    "import statistics\n",
    "#Splitting the file name into variables\n",
    "FN = \"Darius-13-100m-Fly.txt\"\n",
    "FOLDER = \"../swimdata/\"\n",
    "\n",
    "swimer, age, distance, stroke = FN.removesuffix(\".txt\").split(\"-\")\n",
    "\n",
    "# Retrieving data from file\n",
    "with open(FOLDER + FN) as file:\n",
    "    lines = file.readlines()\n",
    "\n",
    "# Remember, that strip remove the break line\n",
    "times = lines[0].strip().split(\",\")    \n",
    "\n",
    "time = []\n",
    "for t in times:\n",
    "    minutes, rest = t.split(\":\")\n",
    "    seconds, hundredths = rest.split(\".\")\n",
    "    \n",
    "    time_converted = (int(minutes) * 60 * 100) + (int(seconds) * 100) + int(hundredths)\n",
    "    \n",
    "    time.append(time_converted)\n",
    "\n",
    "average = statistics.mean(time)    \n",
    "    \n",
    "round(average / 100, 2) # 86.56; where 86 - seconds, 56 - hundredths\n",
    "\n",
    "mins_secs, hundredths = str(round(average / 100, 2)).split(\".\") # ['86', '58']\n",
    "\n",
    "mins_secs = int(mins_secs)\n",
    "\n",
    "minutes = mins_secs // 60 # It is a floor division operator, rounds down to the nearest integer\n",
    "\n",
    "seconds = mins_secs - minutes * 60\n",
    "\n",
    "average = str(minutes) + \":\" + str(seconds) + \".\" + hundredths\n",
    "\n",
    "print(average) "
   ]
  }
 ],
 "metadata": {
  "kernelspec": {
   "display_name": "Python 3",
   "language": "python",
   "name": "python3"
  },
  "language_info": {
   "codemirror_mode": {
    "name": "ipython",
    "version": 3
   },
   "file_extension": ".py",
   "mimetype": "text/x-python",
   "name": "python",
   "nbconvert_exporter": "python",
   "pygments_lexer": "ipython3",
   "version": "3.12.0"
  }
 },
 "nbformat": 4,
 "nbformat_minor": 2
}
