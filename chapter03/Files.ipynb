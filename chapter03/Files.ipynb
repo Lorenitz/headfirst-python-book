{
 "cells": [
  {
   "cell_type": "code",
   "execution_count": null,
   "metadata": {},
   "outputs": [],
   "source": [
    "import swimclub\n",
    "\n",
    "swimclub.read_swim_data(\"Darius-13-100m-Fly.txt\")"
   ]
  }
 ],
 "metadata": {
  "language_info": {
   "name": "python"
  }
 },
 "nbformat": 4,
 "nbformat_minor": 2
}
