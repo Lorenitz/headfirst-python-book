{
 "cells": [
  {
   "cell_type": "code",
   "execution_count": 11,
   "metadata": {},
   "outputs": [],
   "source": [
    "import swimclub\n",
    "import os\n",
    "\n",
    "#swimclub.read_swim_data(\"Darius-13-100m-Fly.txt\")\n",
    "\n",
    "swim_files = os.listdir(swimclub.FOLDER)\n",
    "swim_files.remove('.DS_Store')"
   ]
  },
  {
   "cell_type": "code",
   "execution_count": 2,
   "metadata": {},
   "outputs": [],
   "source": [
    "#result = list(swimclub.read_swim_data(\"Darius-13-100m-Fly.txt\"))"
   ]
  },
  {
   "cell_type": "code",
   "execution_count": 3,
   "metadata": {},
   "outputs": [],
   "source": [
    "#swimmer, age, distance, stroke, times, average = result[1],result[2],result[3],result[4],result[5],result[0]"
   ]
  },
  {
   "cell_type": "code",
   "execution_count": 7,
   "metadata": {},
   "outputs": [
    {
     "name": "stdout",
     "output_type": "stream",
     "text": [
      "['Abi-10-100m-Back.txt', 'Abi-10-100m-Breast.txt', 'Abi-10-50m-Back.txt', 'Abi-10-50m-Breast.txt', 'Abi-10-50m-Free.txt', 'Ali-12-100m-Back.txt', 'Ali-12-100m-Free.txt', 'Alison-14-100m-Breast.txt', 'Alison-14-100m-Free.txt', 'Aurora-13-50m-Free.txt', 'Bill-18-100m-Back.txt', 'Bill-18-200m-Back.txt', 'Blake-15-100m-Back.txt', 'Blake-15-100m-Fly.txt', 'Blake-15-100m-Free.txt', 'Calvin-9-50m-Back.txt', 'Calvin-9-50m-Fly.txt', 'Calvin-9-50m-Free.txt', 'Carl-15-100m-Back.txt', 'Chris-17-100m-Back.txt', 'Chris-17-100m-Breast.txt', 'Darius-13-100m-Back.txt', 'Darius-13-100m-Breast.txt', 'Darius-13-100m-Fly.txt', 'Darius-13-200m-IM.txt', 'Dave-17-100m-Free.txt', 'Dave-17-200m-Back.txt', 'Elba-14-100m-Free.txt', 'Emma-13-100m-Breast.txt', 'Emma-13-100m-Free.txt', 'Erika-15-100m-Breast.txt', 'Erika-15-100m-Free.txt', 'Erika-15-200m-Breast.txt', 'Hannah-13-100m-Back.txt', 'Hannah-13-100m-Free.txt', 'Katie-9-100m-Back.txt', 'Katie-9-100m-Breast.txt', 'Katie-9-100m-Free.txt', 'Katie-9-50m-Back.txt', 'Katie-9-50m-Breast.txt', 'Katie-9-50m-Fly.txt', 'Katie-9-50m-Free.txt', 'Lizzie-14-100m-Back.txt', 'Lizzie-14-100m-Free.txt', 'Maria-9-50m-Free.txt', 'Mike-15-100m-Back.txt', 'Mike-15-100m-Fly.txt', 'Mike-15-100m-Free.txt', 'Mike-15-200m-Free.txt', 'Mike-15-200m-IM.txt', 'Owen-15-100m-Free.txt', 'Ruth-13-100m-Back.txt', 'Ruth-13-100m-Free.txt', 'Ruth-13-200m-Back.txt', 'Ruth-13-200m-Free.txt', 'Ruth-13-400m-Free.txt', 'Tasmin-15-100m-Back.txt', 'Tasmin-15-100m-Breast.txt', 'Tasmin-15-100m-Free.txt', 'Tasmin-15-200m-Breast.txt']\n"
     ]
    }
   ],
   "source": [
    "#len(swim_files)\n",
    "#print(swim_files)"
   ]
  },
  {
   "cell_type": "code",
   "execution_count": 12,
   "metadata": {},
   "outputs": [
    {
     "name": "stdout",
     "output_type": "stream",
     "text": [
      "Abi-10-100m-Back.txt\n",
      "Abi-10-100m-Breast.txt\n",
      "Abi-10-50m-Back.txt\n",
      "Abi-10-50m-Breast.txt\n",
      "Abi-10-50m-Free.txt\n",
      "Ali-12-100m-Back.txt\n",
      "Ali-12-100m-Free.txt\n",
      "Alison-14-100m-Breast.txt\n",
      "Alison-14-100m-Free.txt\n",
      "Aurora-13-50m-Free.txt\n",
      "Bill-18-100m-Back.txt\n",
      "Bill-18-200m-Back.txt\n",
      "Blake-15-100m-Back.txt\n",
      "Blake-15-100m-Fly.txt\n",
      "Blake-15-100m-Free.txt\n",
      "Calvin-9-50m-Back.txt\n",
      "Calvin-9-50m-Fly.txt\n",
      "Calvin-9-50m-Free.txt\n",
      "Carl-15-100m-Back.txt\n",
      "Chris-17-100m-Back.txt\n",
      "Chris-17-100m-Breast.txt\n",
      "Darius-13-100m-Back.txt\n",
      "Darius-13-100m-Breast.txt\n",
      "Darius-13-100m-Fly.txt\n",
      "Darius-13-200m-IM.txt\n",
      "Dave-17-100m-Free.txt\n",
      "Dave-17-200m-Back.txt\n",
      "Elba-14-100m-Free.txt\n",
      "Emma-13-100m-Breast.txt\n",
      "Emma-13-100m-Free.txt\n",
      "Erika-15-100m-Breast.txt\n",
      "Erika-15-100m-Free.txt\n",
      "Erika-15-200m-Breast.txt\n",
      "Hannah-13-100m-Back.txt\n",
      "Hannah-13-100m-Free.txt\n",
      "Katie-9-100m-Back.txt\n",
      "Katie-9-100m-Breast.txt\n",
      "Katie-9-100m-Free.txt\n",
      "Katie-9-50m-Back.txt\n",
      "Katie-9-50m-Breast.txt\n",
      "Katie-9-50m-Fly.txt\n",
      "Katie-9-50m-Free.txt\n",
      "Lizzie-14-100m-Back.txt\n",
      "Lizzie-14-100m-Free.txt\n",
      "Maria-9-50m-Free.txt\n",
      "Mike-15-100m-Back.txt\n",
      "Mike-15-100m-Fly.txt\n",
      "Mike-15-100m-Free.txt\n",
      "Mike-15-200m-Free.txt\n",
      "Mike-15-200m-IM.txt\n",
      "Owen-15-100m-Free.txt\n",
      "Ruth-13-100m-Back.txt\n",
      "Ruth-13-100m-Free.txt\n",
      "Ruth-13-200m-Back.txt\n",
      "Ruth-13-200m-Free.txt\n",
      "Ruth-13-400m-Free.txt\n",
      "Tasmin-15-100m-Back.txt\n",
      "Tasmin-15-100m-Breast.txt\n",
      "Tasmin-15-100m-Free.txt\n",
      "Tasmin-15-200m-Breast.txt\n"
     ]
    }
   ],
   "source": [
    "for files in swim_files:\n",
    "    print(files)\n",
    "    \n",
    "    swimclub.read_swim_data(files)\n",
    "    "
   ]
  }
 ],
 "metadata": {
  "kernelspec": {
   "display_name": "Python 3",
   "language": "python",
   "name": "python3"
  },
  "language_info": {
   "codemirror_mode": {
    "name": "ipython",
    "version": 3
   },
   "file_extension": ".py",
   "mimetype": "text/x-python",
   "name": "python",
   "nbconvert_exporter": "python",
   "pygments_lexer": "ipython3",
   "version": "3.12.0"
  }
 },
 "nbformat": 4,
 "nbformat_minor": 2
}
