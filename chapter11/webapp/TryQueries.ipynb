{
 "cells": [
  {
   "cell_type": "code",
   "execution_count": 6,
   "metadata": {},
   "outputs": [
    {
     "name": "stdout",
     "output_type": "stream",
     "text": [
      "\n",
      "    select distinct ts from times\n",
      "\n"
     ]
    }
   ],
   "source": [
    "import DBcm\n",
    "db_details = \"CoachDB.sqlite3\"\n",
    "from queries_proj import SQL_SESSIONS, SQL_SWIMMERS_BY_SESSION\n",
    "\n",
    "print(SQL_SESSIONS)"
   ]
  },
  {
   "cell_type": "code",
   "execution_count": 7,
   "metadata": {},
   "outputs": [
    {
     "data": {
      "text/plain": [
       "[('2024-02-01 06:40:31',),\n",
       " ('2024-02-01 06:40:32',),\n",
       " ('2024-02-01 06:40:33',),\n",
       " ('2024-02-03 18:53:53',)]"
      ]
     },
     "execution_count": 7,
     "metadata": {},
     "output_type": "execute_result"
    }
   ],
   "source": [
    "with DBcm.UseDatabase(db_details) as db:\n",
    "    db.execute(SQL_SESSIONS)\n",
    "    results = db.fetchall()\n",
    "results    "
   ]
  },
  {
   "cell_type": "code",
   "execution_count": 8,
   "metadata": {},
   "outputs": [
    {
     "name": "stdout",
     "output_type": "stream",
     "text": [
      "\n",
      "    select distinct swimmers.name, swimmers.age  \n",
      "    from times, swimmers \n",
      "    where date(times.ts) = ? and     \n",
      "    times.swimmer_id = swimmers.id \n",
      "    order by name\n",
      "\n"
     ]
    }
   ],
   "source": [
    "print(SQL_SWIMMERS_BY_SESSION)"
   ]
  },
  {
   "cell_type": "code",
   "execution_count": 9,
   "metadata": {},
   "outputs": [
    {
     "data": {
      "text/plain": [
       "[('Abi', 10),\n",
       " ('Blake', 15),\n",
       " ('Darius', 13),\n",
       " ('Darius', 8),\n",
       " ('Dave', 17),\n",
       " ('Katie', 9),\n",
       " ('Maria', 9),\n",
       " ('Owen', 15)]"
      ]
     },
     "execution_count": 9,
     "metadata": {},
     "output_type": "execute_result"
    }
   ],
   "source": [
    "with DBcm.UseDatabase(db_details) as db:\n",
    "    db.execute(SQL_SWIMMERS_BY_SESSION, (\"2024-02-03\",))\n",
    "    results = db.fetchall()\n",
    "results    "
   ]
  },
  {
   "cell_type": "code",
   "execution_count": 10,
   "metadata": {},
   "outputs": [
    {
     "name": "stdout",
     "output_type": "stream",
     "text": [
      "  \n",
      "    select distinct events.distance, events.stroke\n",
      "    from swimmers, events, times\n",
      "    where times.swimmer_id = swimmers.id and\n",
      "    times.event_id = events.id and\n",
      "    (swimmers.name = ? and swimmers.age = ?) and\n",
      "    date(times.ts) = ?\n",
      "\n"
     ]
    }
   ],
   "source": [
    "from queries_proj import SQL_SWIMMERS_EVENTS_BY_SESSION \n",
    "print(SQL_SWIMMERS_EVENTS_BY_SESSION)"
   ]
  },
  {
   "cell_type": "code",
   "execution_count": 14,
   "metadata": {},
   "outputs": [
    {
     "data": {
      "text/plain": [
       "[('100m', 'Back'), ('100m', 'Breast'), ('100m', 'Fly'), ('200m', 'IM')]"
      ]
     },
     "execution_count": 14,
     "metadata": {},
     "output_type": "execute_result"
    }
   ],
   "source": [
    "with DBcm.UseDatabase(db_details) as db:\n",
    "    db.execute(SQL_SWIMMERS_EVENTS_BY_SESSION, (\"Darius\",13,\"2024-02-03\",))\n",
    "    results = db.fetchall()\n",
    "results    "
   ]
  },
  {
   "cell_type": "code",
   "execution_count": 13,
   "metadata": {},
   "outputs": [
    {
     "data": {
      "text/plain": [
       "[('50m', 'Back'), ('50m', 'Breast'), ('50m', 'Free')]"
      ]
     },
     "execution_count": 13,
     "metadata": {},
     "output_type": "execute_result"
    }
   ],
   "source": [
    "with DBcm.UseDatabase(db_details) as db:\n",
    "    db.execute(SQL_SWIMMERS_EVENTS_BY_SESSION, (\"Darius\",8,\"2024-02-03\",))\n",
    "    results = db.fetchall()\n",
    "results    "
   ]
  }
 ],
 "metadata": {
  "language_info": {
   "name": "python"
  }
 },
 "nbformat": 4,
 "nbformat_minor": 2
}
