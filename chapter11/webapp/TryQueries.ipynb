{
 "cells": [
  {
   "cell_type": "code",
   "execution_count": 29,
   "metadata": {},
   "outputs": [
    {
     "name": "stdout",
     "output_type": "stream",
     "text": [
      "['DataError', 'DatabaseError', 'DictCursor', 'Error', 'IntegrityError', 'InterfaceError', 'InternalError', 'LoggingCursor', 'MinTimeLoggingCursor', 'NamedTupleCursor', 'NotSupportedError', 'OperationalError', 'ProgrammingError', 'QueryCanceledError', 'RealDictCursor', 'Results', 'Session', 'TornadoSession', 'TransactionRollbackError', 'Warning', '__builtins__', '__cached__', '__doc__', '__file__', '__loader__', '__name__', '__package__', '__path__', '__spec__', '__version__', 'logging', 'pool', 'results', 'session', 'sys', 'tornado_session', 'uri', 'utils', 'version']\n"
     ]
    }
   ],
   "source": [
    "import queries\n",
    "\n",
    "print(dir(queries))"
   ]
  },
  {
   "cell_type": "code",
   "execution_count": 30,
   "metadata": {},
   "outputs": [
    {
     "data": {
      "text/plain": [
       "['DataError',\n",
       " 'DatabaseError',\n",
       " 'DictCursor',\n",
       " 'Error',\n",
       " 'IntegrityError',\n",
       " 'InterfaceError',\n",
       " 'InternalError',\n",
       " 'LoggingCursor',\n",
       " 'MinTimeLoggingCursor',\n",
       " 'NamedTupleCursor',\n",
       " 'NotSupportedError',\n",
       " 'OperationalError',\n",
       " 'ProgrammingError',\n",
       " 'QueryCanceledError',\n",
       " 'RealDictCursor',\n",
       " 'Results',\n",
       " 'Session',\n",
       " 'TornadoSession',\n",
       " 'TransactionRollbackError',\n",
       " 'Warning',\n",
       " 'logging',\n",
       " 'pool',\n",
       " 'results',\n",
       " 'session',\n",
       " 'sys',\n",
       " 'tornado_session',\n",
       " 'uri',\n",
       " 'utils',\n",
       " 'version']"
      ]
     },
     "execution_count": 30,
     "metadata": {},
     "output_type": "execute_result"
    }
   ],
   "source": [
    "statement = []\n",
    "items = dir(queries)\n",
    "\n",
    "for item in items:\n",
    "    if not item.startswith('_'):\n",
    "        statement.append(item)\n",
    "        \n",
    "statement      "
   ]
  },
  {
   "cell_type": "code",
   "execution_count": 31,
   "metadata": {},
   "outputs": [
    {
     "data": {
      "text/plain": [
       "['DataError',\n",
       " 'DatabaseError',\n",
       " 'DictCursor',\n",
       " 'Error',\n",
       " 'IntegrityError',\n",
       " 'InterfaceError',\n",
       " 'InternalError',\n",
       " 'LoggingCursor',\n",
       " 'MinTimeLoggingCursor',\n",
       " 'NamedTupleCursor',\n",
       " 'NotSupportedError',\n",
       " 'OperationalError',\n",
       " 'ProgrammingError',\n",
       " 'QueryCanceledError',\n",
       " 'RealDictCursor',\n",
       " 'Results',\n",
       " 'Session',\n",
       " 'TornadoSession',\n",
       " 'TransactionRollbackError',\n",
       " 'Warning',\n",
       " 'logging',\n",
       " 'pool',\n",
       " 'results',\n",
       " 'session',\n",
       " 'sys',\n",
       " 'tornado_session',\n",
       " 'uri',\n",
       " 'utils',\n",
       " 'version']"
      ]
     },
     "execution_count": 31,
     "metadata": {},
     "output_type": "execute_result"
    }
   ],
   "source": [
    "[item for item in items if not item.startswith(\"_\")]"
   ]
  },
  {
   "cell_type": "code",
   "execution_count": 32,
   "metadata": {},
   "outputs": [
    {
     "data": {
      "text/plain": [
       "['append',\n",
       " 'clear',\n",
       " 'copy',\n",
       " 'count',\n",
       " 'extend',\n",
       " 'index',\n",
       " 'insert',\n",
       " 'pop',\n",
       " 'remove',\n",
       " 'reverse',\n",
       " 'sort']"
      ]
     },
     "execution_count": 32,
     "metadata": {},
     "output_type": "execute_result"
    }
   ],
   "source": [
    "[x for x in dir(list) if not x.startswith(\"_\")]"
   ]
  },
  {
   "cell_type": "code",
   "execution_count": 35,
   "metadata": {},
   "outputs": [
    {
     "name": "stdout",
     "output_type": "stream",
     "text": [
      "\n",
      "    select distinct ts from times\n",
      "\n"
     ]
    },
    {
     "data": {
      "text/plain": [
       "[('2024-02-01 06:40:31',), ('2024-02-01 06:40:32',), ('2024-02-01 06:40:33',)]"
      ]
     },
     "execution_count": 35,
     "metadata": {},
     "output_type": "execute_result"
    }
   ],
   "source": [
    "import DBcm\n",
    "\n",
    "\n",
    "db_details = \"CoachDB.sqlite3\"\n",
    "\n",
    "from queries_proj import SQL_SESSIONS\n",
    "\n",
    "print(SQL_SESSIONS)\n",
    "\n",
    "with DBcm.UseDatabase(db_details) as db:\n",
    "    db.execute(SQL_SESSIONS)\n",
    "    results = db.fetchall()\n",
    "results    \n",
    "    "
   ]
  },
  {
   "cell_type": "code",
   "execution_count": 40,
   "metadata": {},
   "outputs": [
    {
     "name": "stderr",
     "output_type": "stream",
     "text": [
      "Traceback (most recent call last):\n",
      "  File \"c:\\Users\\loren\\Documents\\GitHub Projects\\headfirst-python-book\\chapter11\\webapp\\update_tables.py\", line 60, in <module>\n",
      "    db.execute(\n",
      "sqlite3.OperationalError: no such table: swimmers\n",
      "\n",
      "During handling of the above exception, another exception occurred:\n",
      "\n",
      "Traceback (most recent call last):\n",
      "  File \"c:\\Users\\loren\\Documents\\GitHub Projects\\headfirst-python-book\\chapter11\\webapp\\update_tables.py\", line 56, in <module>\n",
      "    with DBcm.UseDatabase(db_details) as db:\n",
      "  File \"c:\\Users\\loren\\AppData\\Local\\Programs\\Python\\Python312\\Lib\\site-packages\\DBcm.py\", line 118, in __exit__\n",
      "    raise exc_type(exc_value)\n",
      "sqlite3.OperationalError: no such table: swimmers\n"
     ]
    }
   ],
   "source": [
    "!python update_tables.py"
   ]
  }
 ],
 "metadata": {
  "kernelspec": {
   "display_name": "Python 3",
   "language": "python",
   "name": "python3"
  },
  "language_info": {
   "codemirror_mode": {
    "name": "ipython",
    "version": 3
   },
   "file_extension": ".py",
   "mimetype": "text/x-python",
   "name": "python",
   "nbconvert_exporter": "python",
   "pygments_lexer": "ipython3",
   "version": "3.12.0"
  }
 },
 "nbformat": 4,
 "nbformat_minor": 2
}
