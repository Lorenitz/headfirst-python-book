{
 "cells": [
  {
   "cell_type": "code",
   "execution_count": 25,
   "metadata": {},
   "outputs": [],
   "source": [
    "import DBcm\n",
    "\n",
    "db_details = \"CoachDB.sqlite3\""
   ]
  },
  {
   "cell_type": "code",
   "execution_count": 26,
   "metadata": {},
   "outputs": [
    {
     "data": {
      "text/plain": [
       "[]"
      ]
     },
     "execution_count": 26,
     "metadata": {},
     "output_type": "execute_result"
    }
   ],
   "source": [
    "SQL = \"\"\"\n",
    "    create table if not exists swimmers (\n",
    "        id integer not null primary key autoincrement,\n",
    "        name varchar(32) not null,\n",
    "        age integer not null\n",
    "    )\n",
    "\n",
    "\"\"\"\n",
    "\n",
    "\n",
    "with DBcm.UseDatabase(db_details) as db:\n",
    "    db.execute(SQL)\n",
    "    results = db.fetchall()\n",
    "results"
   ]
  },
  {
   "cell_type": "code",
   "execution_count": 27,
   "metadata": {},
   "outputs": [
    {
     "name": "stdout",
     "output_type": "stream",
     "text": [
      "Abi-10-100m-Back.txt\n"
     ]
    },
    {
     "data": {
      "text/plain": [
       "('Abi', '10')"
      ]
     },
     "execution_count": 27,
     "metadata": {},
     "output_type": "execute_result"
    }
   ],
   "source": [
    "import os\n",
    "\n",
    "FOLDER = \"../../swimdata/\"\n",
    "\n",
    "files = os.listdir(FOLDER)\n",
    "files.remove(\".DS_Store\")\n",
    "\n",
    "first = files[0]\n",
    "print(first)\n",
    "\n",
    "name, age, _, _ = first.removesuffix(\".txt\").split(\"-\")\n",
    "name, age "
   ]
  },
  {
   "cell_type": "code",
   "execution_count": 28,
   "metadata": {},
   "outputs": [
    {
     "data": {
      "text/plain": [
       "[]"
      ]
     },
     "execution_count": 28,
     "metadata": {},
     "output_type": "execute_result"
    }
   ],
   "source": [
    "SQL_INSERT = \"\"\"\n",
    "    insert into swimmers\n",
    "    (name, age)\n",
    "    values\n",
    "    (?,?)\n",
    "\"\"\"\n",
    "\n",
    "with DBcm.UseDatabase(db_details) as db:\n",
    "    db.execute(SQL_INSERT,(name, age,))\n",
    "    results = db.fetchall()\n",
    "results    "
   ]
  },
  {
   "cell_type": "code",
   "execution_count": 34,
   "metadata": {},
   "outputs": [
    {
     "data": {
      "text/plain": [
       "[]"
      ]
     },
     "execution_count": 34,
     "metadata": {},
     "output_type": "execute_result"
    }
   ],
   "source": [
    "SQL = \"\"\"\n",
    "    select * from swimmers\n",
    "\"\"\"\n",
    "\n",
    "with DBcm.UseDatabase(db_details) as db:\n",
    "    db.execute(SQL)\n",
    "    results = db.fetchall()\n",
    "results    "
   ]
  },
  {
   "cell_type": "code",
   "execution_count": 43,
   "metadata": {},
   "outputs": [
    {
     "data": {
      "text/plain": [
       "[]"
      ]
     },
     "execution_count": 43,
     "metadata": {},
     "output_type": "execute_result"
    }
   ],
   "source": [
    "SQL = \"\"\"\n",
    "    delete from swimmers\n",
    "\"\"\"\n",
    "\n",
    "with DBcm.UseDatabase(db_details) as db:\n",
    "    db.execute(SQL)\n",
    "    results = db.fetchall()\n",
    "results "
   ]
  },
  {
   "cell_type": "code",
   "execution_count": 45,
   "metadata": {},
   "outputs": [],
   "source": [
    "# Adding swimmers data\n",
    "\n",
    "import os\n",
    "import DBcm\n",
    "\n",
    "db_details = \"CoachDB.sqlite3\"\n",
    "\n",
    "FOLDER = '../../swimdata'\n",
    "\n",
    "files = os.listdir(FOLDER)\n",
    "files.remove(\".DS_Store\")\n",
    "\n",
    "for file in files:\n",
    "    name, age, _, _ = file.removesuffix(\".txt\").split(\"-\")\n",
    "    \n",
    "    SQL_SELECT = \"\"\"\n",
    "        select * from swimmers\n",
    "        where name = ? and age = ?\n",
    "    \"\"\"\n",
    "    \n",
    "    SQL_INSERT = \"\"\"\n",
    "        insert into swimmers\n",
    "        (name, age)\n",
    "        values\n",
    "        (?,?)\n",
    "    \"\"\"\n",
    "    \n",
    "    #the trick to understanding this code is to recall\n",
    "    #that a nonempty list in Python evaluates to TRUE\n",
    "    #whereas an empty list\n",
    "    #evaluates to FALSE.\n",
    "    #Look how this code exploits this behavior in its \"if\" statement    \n",
    "    \n",
    "    with DBcm.UseDatabase(db_details) as db:\n",
    "        db.execute(SQL_SELECT,(name, age,))\n",
    "        if db.fetchall():\n",
    "            #the continue statement causes the current\n",
    "            #loop iteration to terminate early\n",
    "            continue\n",
    "        #data is only inserted when it cannot be found\n",
    "        db.execute(SQL_INSERT, (name, age,))\n",
    "    "
   ]
  },
  {
   "cell_type": "code",
   "execution_count": 46,
   "metadata": {},
   "outputs": [
    {
     "data": {
      "text/plain": [
       "[(64, 'Abi', 10),\n",
       " (65, 'Ali', 12),\n",
       " (66, 'Alison', 14),\n",
       " (67, 'Aurora', 13),\n",
       " (68, 'Bill', 18),\n",
       " (69, 'Blake', 15),\n",
       " (70, 'Calvin', 9),\n",
       " (71, 'Carl', 15),\n",
       " (72, 'Chris', 17),\n",
       " (73, 'Darius', 13),\n",
       " (74, 'Dave', 17),\n",
       " (75, 'Elba', 14),\n",
       " (76, 'Emma', 13),\n",
       " (77, 'Erika', 15),\n",
       " (78, 'Hannah', 13),\n",
       " (79, 'Katie', 9),\n",
       " (80, 'Lizzie', 14),\n",
       " (81, 'Maria', 9),\n",
       " (82, 'Mike', 15),\n",
       " (83, 'Owen', 15),\n",
       " (84, 'Ruth', 13),\n",
       " (85, 'Tasmin', 15)]"
      ]
     },
     "execution_count": 46,
     "metadata": {},
     "output_type": "execute_result"
    }
   ],
   "source": [
    "SQL = \"\"\"\n",
    "    select * from swimmers\n",
    "\"\"\"\n",
    "\n",
    "with DBcm.UseDatabase(db_details) as db:\n",
    "    db.execute(SQL)\n",
    "    results = db.fetchall()\n",
    "results  "
   ]
  }
 ],
 "metadata": {
  "kernelspec": {
   "display_name": "Python 3",
   "language": "python",
   "name": "python3"
  },
  "language_info": {
   "codemirror_mode": {
    "name": "ipython",
    "version": 3
   },
   "file_extension": ".py",
   "mimetype": "text/x-python",
   "name": "python",
   "nbconvert_exporter": "python",
   "pygments_lexer": "ipython3",
   "version": "3.12.0"
  }
 },
 "nbformat": 4,
 "nbformat_minor": 2
}
